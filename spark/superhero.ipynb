{
 "cells": [
  {
   "cell_type": "code",
   "execution_count": 30,
   "metadata": {},
   "outputs": [],
   "source": [
    "from pyspark import SparkConf\n",
    "from pyspark.sql import SparkSession, Row\n",
    "from pyspark.sql import functions as func\n",
    "from pyspark.sql.types import (\n",
    "    StructType,\n",
    "    StructField,\n",
    "    StringType,\n",
    "    IntegerType,\n",
    "    FloatType,\n",
    ")"
   ]
  },
  {
   "cell_type": "code",
   "execution_count": 31,
   "metadata": {},
   "outputs": [],
   "source": [
    "spark = SparkSession.builder.appName(\"SparkSQL\").getOrCreate()"
   ]
  },
  {
   "cell_type": "code",
   "execution_count": 32,
   "metadata": {},
   "outputs": [
    {
     "name": "stdout",
     "output_type": "stream",
     "text": [
      "+---+--------------------+\n",
      "| ID|                Name|\n",
      "+---+--------------------+\n",
      "|  1|24-HOUR MAN/EMMANUEL|\n",
      "|  2|3-D MAN/CHARLES CHAN|\n",
      "|  3|    4-D MAN/MERCURIO|\n",
      "|  4|             8-BALL/|\n",
      "|  5|                   A|\n",
      "+---+--------------------+\n",
      "only showing top 5 rows\n",
      "\n"
     ]
    }
   ],
   "source": [
    "schema = StructType(\n",
    "    [\n",
    "        StructField(\"ID\", IntegerType(), True),\n",
    "        StructField(\"Name\", StringType(), True),\n",
    "    ]\n",
    ")\n",
    "names = spark.read.schema(schema).option(\"sep\", \" \").csv(\"./marvel/Marvel_Names.csv\")\n",
    "names.show(5)"
   ]
  },
  {
   "cell_type": "code",
   "execution_count": 33,
   "metadata": {},
   "outputs": [
    {
     "name": "stdout",
     "output_type": "stream",
     "text": [
      "root\n",
      " |-- ID: integer (nullable = true)\n",
      " |-- Name: string (nullable = true)\n",
      "\n"
     ]
    }
   ],
   "source": [
    "names.printSchema()"
   ]
  },
  {
   "cell_type": "code",
   "execution_count": 34,
   "metadata": {},
   "outputs": [
    {
     "name": "stdout",
     "output_type": "stream",
     "text": [
      "+--------------------+\n",
      "|               value|\n",
      "+--------------------+\n",
      "|5988 748 1722 375...|\n",
      "|5989 4080 4264 44...|\n",
      "|5982 217 595 1194...|\n",
      "|5983 1165 3836 43...|\n",
      "|5980 2731 3712 15...|\n",
      "+--------------------+\n",
      "only showing top 5 rows\n",
      "\n"
     ]
    }
   ],
   "source": [
    "lines = spark.read.text(\"./marvel/Marvel_Graph.csv\")\n",
    "lines.show(5)"
   ]
  },
  {
   "cell_type": "code",
   "execution_count": null,
   "metadata": {},
   "outputs": [
    {
     "name": "stdout",
     "output_type": "stream",
     "text": [
      "+----+-----------+\n",
      "|  id|connections|\n",
      "+----+-----------+\n",
      "| 859|       1937|\n",
      "|5306|       1745|\n",
      "|2664|       1532|\n",
      "|5716|       1429|\n",
      "|6306|       1397|\n",
      "+----+-----------+\n",
      "only showing top 5 rows\n",
      "\n"
     ]
    }
   ],
   "source": [
    "# key = id, connections = number of friends of the character\n",
    "connections = (\n",
    "    lines.withColumn(\"id\", func.split(func.col(\"value\"), \" \")[0])\n",
    "    .withColumn(\"connections\", func.size(func.split(func.col(\"value\"), \" \")) - 1)\n",
    "    .groupBy(\"id\")\n",
    "    .agg(func.sum(\"connections\").alias(\"connections\"))\n",
    "    .orderBy(\"connections\", ascending=False)\n",
    ")\n",
    "connections.show(5)"
   ]
  },
  {
   "cell_type": "code",
   "execution_count": null,
   "metadata": {},
   "outputs": [
    {
     "name": "stdout",
     "output_type": "stream",
     "text": [
      "Most popular superhero is CAPTAIN AMERICA with 1937 connections\n"
     ]
    }
   ],
   "source": [
    "# most popular superhero\n",
    "mostPopular = connections.orderBy(\"connections\", ascending=False).first()\n",
    "\n",
    "mostPopularName = (\n",
    "    names.filter(func.col(\"ID\") == mostPopular[\"id\"]).select(\"Name\").first()[0]\n",
    ")\n",
    "\n",
    "print(\n",
    "    f\"Most popular superhero is {mostPopularName} with {mostPopular['connections']} connections\"\n",
    ")"
   ]
  },
  {
   "cell_type": "code",
   "execution_count": null,
   "metadata": {},
   "outputs": [
    {
     "name": "stdout",
     "output_type": "stream",
     "text": [
      "+----+-----------+--------------------+\n",
      "|  id|connections|                Name|\n",
      "+----+-----------+--------------------+\n",
      "| 859|       1937|     CAPTAIN AMERICA|\n",
      "|5306|       1745|SPIDER-MAN/PETER PAR|\n",
      "|2664|       1532|IRON MAN/TONY STARK |\n",
      "|5716|       1429|THING/BENJAMIN J. GR|\n",
      "|6306|       1397|    WOLVERINE/LOGAN |\n",
      "+----+-----------+--------------------+\n",
      "only showing top 5 rows\n",
      "\n"
     ]
    }
   ],
   "source": [
    "# top 5 popular superheroes\n",
    "connections.join(names, \"ID\").orderBy(\"connections\", ascending=False).show(5)"
   ]
  },
  {
   "cell_type": "code",
   "execution_count": null,
   "metadata": {},
   "outputs": [
    {
     "name": "stdout",
     "output_type": "stream",
     "text": [
      "+----+-----------+--------------------+\n",
      "|  id|connections|                Name|\n",
      "+----+-----------+--------------------+\n",
      "|3490|          1|MARVEL BOY II/MARTIN|\n",
      "|1089|          1|       CLUMSY FOULUP|\n",
      "| 467|          1|        BERSERKER II|\n",
      "| 577|          1|              BLARE/|\n",
      "|3489|          1|MARVEL BOY/MARTIN BU|\n",
      "+----+-----------+--------------------+\n",
      "only showing top 5 rows\n",
      "\n"
     ]
    }
   ],
   "source": [
    "# top 5 obscure superheroes\n",
    "connections.join(names, \"ID\").orderBy(\"connections\").show(5)"
   ]
  },
  {
   "cell_type": "code",
   "execution_count": 52,
   "metadata": {},
   "outputs": [
    {
     "data": {
      "text/plain": [
       "[(5988,\n",
       "  ([748,\n",
       "    1722,\n",
       "    3752,\n",
       "    4655,\n",
       "    5743,\n",
       "    1872,\n",
       "    3413,\n",
       "    5527,\n",
       "    6368,\n",
       "    6085,\n",
       "    4319,\n",
       "    4728,\n",
       "    1636,\n",
       "    2397,\n",
       "    3364,\n",
       "    4001,\n",
       "    1614,\n",
       "    1819,\n",
       "    1585,\n",
       "    732,\n",
       "    2660,\n",
       "    3952,\n",
       "    2507,\n",
       "    3891,\n",
       "    2070,\n",
       "    2239,\n",
       "    2602,\n",
       "    612,\n",
       "    1352,\n",
       "    5447,\n",
       "    4548,\n",
       "    1596,\n",
       "    5488,\n",
       "    1605,\n",
       "    5517,\n",
       "    11,\n",
       "    479,\n",
       "    2554,\n",
       "    2043,\n",
       "    17,\n",
       "    865,\n",
       "    4292,\n",
       "    6312,\n",
       "    473,\n",
       "    534,\n",
       "    1479,\n",
       "    6375,\n",
       "    4456],\n",
       "   9999,\n",
       "   'WHITE')),\n",
       " (5989,\n",
       "  ([4080,\n",
       "    4264,\n",
       "    4446,\n",
       "    3779,\n",
       "    2430,\n",
       "    2297,\n",
       "    6169,\n",
       "    3530,\n",
       "    3272,\n",
       "    4282,\n",
       "    6432,\n",
       "    2548,\n",
       "    4140,\n",
       "    185,\n",
       "    105,\n",
       "    3878,\n",
       "    2429,\n",
       "    1334,\n",
       "    4595,\n",
       "    2767,\n",
       "    3956,\n",
       "    3877,\n",
       "    4776,\n",
       "    4946,\n",
       "    3407,\n",
       "    128,\n",
       "    269,\n",
       "    5775,\n",
       "    5121,\n",
       "    481,\n",
       "    5516,\n",
       "    4758,\n",
       "    4053,\n",
       "    1044,\n",
       "    1602,\n",
       "    3889,\n",
       "    1535,\n",
       "    6038,\n",
       "    533,\n",
       "    3986],\n",
       "   9999,\n",
       "   'WHITE')),\n",
       " (5982,\n",
       "  ([217,\n",
       "    595,\n",
       "    1194,\n",
       "    3308,\n",
       "    2940,\n",
       "    1815,\n",
       "    794,\n",
       "    1503,\n",
       "    5197,\n",
       "    859,\n",
       "    5096,\n",
       "    6039,\n",
       "    2664,\n",
       "    651,\n",
       "    2244,\n",
       "    528,\n",
       "    284,\n",
       "    1449,\n",
       "    1097,\n",
       "    1172,\n",
       "    1092,\n",
       "    108,\n",
       "    3405,\n",
       "    5204,\n",
       "    387,\n",
       "    4607,\n",
       "    4545,\n",
       "    3705,\n",
       "    4930,\n",
       "    1805,\n",
       "    4712,\n",
       "    4404,\n",
       "    247,\n",
       "    4754,\n",
       "    4427,\n",
       "    1845,\n",
       "    536,\n",
       "    5795,\n",
       "    5978,\n",
       "    533,\n",
       "    3984,\n",
       "    6056],\n",
       "   9999,\n",
       "   'WHITE')),\n",
       " (5983,\n",
       "  ([1165,\n",
       "    3836,\n",
       "    4361,\n",
       "    1282,\n",
       "    716,\n",
       "    4289,\n",
       "    4646,\n",
       "    6300,\n",
       "    5084,\n",
       "    2397,\n",
       "    4454,\n",
       "    1913,\n",
       "    5861,\n",
       "    5485],\n",
       "   9999,\n",
       "   'WHITE')),\n",
       " (5980,\n",
       "  ([2731,\n",
       "    3712,\n",
       "    1587,\n",
       "    6084,\n",
       "    2472,\n",
       "    2546,\n",
       "    6313,\n",
       "    875,\n",
       "    859,\n",
       "    323,\n",
       "    2664,\n",
       "    1469,\n",
       "    522,\n",
       "    2506,\n",
       "    2919,\n",
       "    2423,\n",
       "    3624,\n",
       "    5736,\n",
       "    5046,\n",
       "    1787,\n",
       "    5776,\n",
       "    3245,\n",
       "    3840,\n",
       "    2399],\n",
       "   9999,\n",
       "   'WHITE'))]"
      ]
     },
     "execution_count": 52,
     "metadata": {},
     "output_type": "execute_result"
    }
   ],
   "source": [
    "# superhero degrees of separation\n",
    "# id, connections_list, distance, color\n",
    "\n",
    "def converToBFS(line):\n",
    "    fields = line.split()\n",
    "    heroID = int(fields[0])\n",
    "    connections = [int(connection) for connection in fields[1:]]\n",
    "\n",
    "    color = \"WHITE\"\n",
    "    distance = 9999\n",
    "    if heroID == startCharacterID:\n",
    "        color = \"GRAY\"\n",
    "        distance = 0\n",
    "\n",
    "    return (heroID, (connections, distance, color))\n",
    "\n",
    "\n",
    "startCharacterID = 5306  # Spiderman\n",
    "targetCharacterID = 14\n",
    "\n",
    "hitCounter = spark.sparkContext.accumulator(0)\n",
    "degreeSep = spark.sparkContext.textFile(\"./marvel/Marvel_Graph.csv\").map(converToBFS)\n",
    "degreeSep.cache()\n",
    "degreeSep.take(5)"
   ]
  },
  {
   "cell_type": "code",
   "execution_count": null,
   "metadata": {},
   "outputs": [],
   "source": [
    "# item based collaborative filtering, cache(), persist()\n"
   ]
  }
 ],
 "metadata": {
  "kernelspec": {
   "display_name": "Python 3",
   "language": "python",
   "name": "python3"
  },
  "language_info": {
   "codemirror_mode": {
    "name": "ipython",
    "version": 3
   },
   "file_extension": ".py",
   "mimetype": "text/x-python",
   "name": "python",
   "nbconvert_exporter": "python",
   "pygments_lexer": "ipython3",
   "version": "3.10.12"
  }
 },
 "nbformat": 4,
 "nbformat_minor": 2
}
