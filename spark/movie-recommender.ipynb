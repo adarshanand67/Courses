{
 "cells": [
  {
   "cell_type": "code",
   "execution_count": 37,
   "metadata": {},
   "outputs": [],
   "source": [
    "from pyspark.sql import SparkSession\n",
    "from pyspark.sql import functions as func\n",
    "from pyspark.sql.types import StructType, StructField, StringType, IntegerType, LongType"
   ]
  },
  {
   "cell_type": "code",
   "execution_count": 38,
   "metadata": {},
   "outputs": [],
   "source": [
    "def computeCosineSimilarity(spark, data):\n",
    "    # Compute xx, xy and yy columns\n",
    "    pairScores = (\n",
    "        data.withColumn(\"xx\", func.col(\"rating1\") * func.col(\"rating1\"))\n",
    "        .withColumn(\"yy\", func.col(\"rating2\") * func.col(\"rating2\"))\n",
    "        .withColumn(\"xy\", func.col(\"rating1\") * func.col(\"rating2\"))\n",
    "    )\n",
    "\n",
    "    # Compute numerator, denominator and numPairs columns\n",
    "    calculateSimilarity = pairScores.groupBy(\"movie1\", \"movie2\").agg(\n",
    "        func.sum(func.col(\"xy\")).alias(\"numerator\"),\n",
    "        (\n",
    "            func.sqrt(func.sum(func.col(\"xx\"))) * func.sqrt(func.sum(func.col(\"yy\")))\n",
    "        ).alias(\"denominator\"),\n",
    "        func.count(func.col(\"xy\")).alias(\"numPairs\"),\n",
    "    )\n",
    "\n",
    "    # Calculate score and select only needed columns (movie1, movie2, score, numPairs)\n",
    "    result = calculateSimilarity.withColumn(\n",
    "        \"score\",\n",
    "        func.when(\n",
    "            func.col(\"denominator\") != 0,\n",
    "            func.col(\"numerator\") / func.col(\"denominator\"),\n",
    "        ).otherwise(0),\n",
    "    ).select(\"movie1\", \"movie2\", \"score\", \"numPairs\")\n",
    "\n",
    "    return result"
   ]
  },
  {
   "cell_type": "code",
   "execution_count": 39,
   "metadata": {},
   "outputs": [],
   "source": [
    "# Get movie name by given movie id\n",
    "def getMovieName(movieNames, movieId):\n",
    "    result = (\n",
    "        movieNames.filter(func.col(\"movieID\") == movieId)\n",
    "        .select(\"movieTitle\")\n",
    "        .collect()[0]\n",
    "    )\n",
    "\n",
    "    return result[0]"
   ]
  },
  {
   "cell_type": "code",
   "execution_count": 40,
   "metadata": {},
   "outputs": [],
   "source": [
    "spark = (\n",
    "    SparkSession.builder.appName(\"MovieSimilarities\").master(\"local[*]\").getOrCreate()\n",
    ")\n",
    "\n",
    "movieNamesSchema = StructType(\n",
    "    [\n",
    "        StructField(\"movieID\", IntegerType(), True),\n",
    "        StructField(\"movieTitle\", StringType(), True),\n",
    "    ]\n",
    ")\n",
    "\n",
    "moviesSchema = StructType(\n",
    "    [\n",
    "        StructField(\"userID\", IntegerType(), True),\n",
    "        StructField(\"movieID\", IntegerType(), True),\n",
    "        StructField(\"rating\", IntegerType(), True),\n",
    "        StructField(\"timestamp\", LongType(), True),\n",
    "    ]\n",
    ")"
   ]
  },
  {
   "cell_type": "code",
   "execution_count": 41,
   "metadata": {},
   "outputs": [
    {
     "name": "stdout",
     "output_type": "stream",
     "text": [
      "+-------+-----------------+\n",
      "|movieID|       movieTitle|\n",
      "+-------+-----------------+\n",
      "|      1| Toy Story (1995)|\n",
      "|      2| GoldenEye (1995)|\n",
      "|      3|Four Rooms (1995)|\n",
      "|      4|Get Shorty (1995)|\n",
      "|      5|   Copycat (1995)|\n",
      "+-------+-----------------+\n",
      "only showing top 5 rows\n",
      "\n"
     ]
    }
   ],
   "source": [
    "# Create a broadcast dataset of movieID and movieTitle.\n",
    "# Apply ISO-885901 charset\n",
    "movieNames = (\n",
    "    spark.read.option(\"sep\", \"|\")\n",
    "    .option(\"charset\", \"ISO-8859-1\")\n",
    "    .schema(movieNamesSchema)\n",
    "    .csv(\"./ml-100k/u.item\")\n",
    ")\n",
    "movieNames.show(5)"
   ]
  },
  {
   "cell_type": "code",
   "execution_count": 42,
   "metadata": {},
   "outputs": [
    {
     "name": "stdout",
     "output_type": "stream",
     "text": [
      "+------+-------+------+---------+\n",
      "|userID|movieID|rating|timestamp|\n",
      "+------+-------+------+---------+\n",
      "|   196|    242|     3|881250949|\n",
      "|   186|    302|     3|891717742|\n",
      "|    22|    377|     1|878887116|\n",
      "|   244|     51|     2|880606923|\n",
      "|   166|    346|     1|886397596|\n",
      "+------+-------+------+---------+\n",
      "only showing top 5 rows\n",
      "\n"
     ]
    }
   ],
   "source": [
    "# Load up movie data as dataset\n",
    "movies = spark.read.option(\"sep\", \"\\t\").schema(moviesSchema).csv(\"./ml-100k/u.data\")\n",
    "movies.show(5)"
   ]
  },
  {
   "cell_type": "code",
   "execution_count": 43,
   "metadata": {},
   "outputs": [
    {
     "name": "stdout",
     "output_type": "stream",
     "text": [
      "+------+------+-------+-------+\n",
      "|movie1|movie2|rating1|rating2|\n",
      "+------+------+-------+-------+\n",
      "|   242|   269|      3|      3|\n",
      "|   242|   845|      3|      4|\n",
      "|   242|  1022|      3|      4|\n",
      "|   242|   762|      3|      3|\n",
      "|   242|   411|      3|      4|\n",
      "+------+------+-------+-------+\n",
      "only showing top 5 rows\n",
      "\n"
     ]
    }
   ],
   "source": [
    "ratings = movies.select(\"userId\", \"movieId\", \"rating\")\n",
    "moviePairs = (\n",
    "    ratings.alias(\"ratings1\")\n",
    "    .join(\n",
    "        ratings.alias(\"ratings2\"),\n",
    "        (func.col(\"ratings1.userId\") == func.col(\"ratings2.userId\"))\n",
    "        & (func.col(\"ratings1.movieId\") < func.col(\"ratings2.movieId\")),\n",
    "    )\n",
    "    .select(\n",
    "        func.col(\"ratings1.movieId\").alias(\"movie1\"),\n",
    "        func.col(\"ratings2.movieId\").alias(\"movie2\"),\n",
    "        func.col(\"ratings1.rating\").alias(\"rating1\"),\n",
    "        func.col(\"ratings2.rating\").alias(\"rating2\"),\n",
    "    )\n",
    ")\n",
    "moviePairs.show(5)"
   ]
  },
  {
   "cell_type": "code",
   "execution_count": 44,
   "metadata": {},
   "outputs": [
    {
     "name": "stdout",
     "output_type": "stream",
     "text": [
      "+------+------+------------------+--------+\n",
      "|movie1|movie2|             score|numPairs|\n",
      "+------+------+------------------+--------+\n",
      "|    51|   924|0.9465030160396292|      15|\n",
      "|   451|   529|0.8700048504395461|      30|\n",
      "|    86|   318|0.9562989269248869|      95|\n",
      "|    40|   167|0.9488483124502475|      23|\n",
      "|   274|  1211|0.9799118698777318|       7|\n",
      "+------+------+------------------+--------+\n",
      "only showing top 5 rows\n",
      "\n"
     ]
    },
    {
     "name": "stderr",
     "output_type": "stream",
     "text": [
      "24/11/06 13:57:26 WARN CacheManager: Asked to cache already cached data.\n"
     ]
    }
   ],
   "source": [
    "moviePairSimilarities = computeCosineSimilarity(spark, moviePairs).cache()\n",
    "\n",
    "moviePairSimilarities.show(5)"
   ]
  },
  {
   "cell_type": "code",
   "execution_count": 45,
   "metadata": {},
   "outputs": [
    {
     "name": "stdout",
     "output_type": "stream",
     "text": [
      "Top 10 similar movies for Toy Story (1995)\n",
      "Hamlet (1996)\tscore: 0.9745438715121281\tstrength: \n",
      "Raiders of the Lost Ark (1981)\tscore: 0.9740842172192801\tstrength: \n",
      "Cinderella (1950)\tscore: 0.9740029877471444\tstrength: \n",
      "Winnie the Pooh and the Blustery Day (1968)\tscore: 0.9734154958854764\tstrength: \n",
      "Cool Hand Luke (1967)\tscore: 0.9733423477201257\tstrength: \n",
      "Great Escape, The (1963)\tscore: 0.9732705816130491\tstrength: \n",
      "African Queen, The (1951)\tscore: 0.9731512715078089\tstrength: \n",
      "Apollo 13 (1995)\tscore: 0.9723951205383821\tstrength: \n",
      "12 Angry Men (1957)\tscore: 0.9719872951015222\tstrength: \n",
      "Wrong Trousers, The (1993)\tscore: 0.9718143066672611\tstrength: \n"
     ]
    }
   ],
   "source": [
    "scoreThreshold = 0.56\n",
    "coOccurrenceThreshold = 50.0\n",
    "\n",
    "movieID = 1\n",
    "\n",
    "# Filter for movies with this sim that are \"good\" as defined by\n",
    "# our quality thresholds above\n",
    "filteredResults = moviePairSimilarities.filter(\n",
    "    ((func.col(\"movie1\") == movieID) | (func.col(\"movie2\") == movieID))\n",
    "    & (func.col(\"score\") > scoreThreshold)\n",
    "    & (func.col(\"numPairs\") > coOccurrenceThreshold)\n",
    ")\n",
    "\n",
    "# Sort by quality score.\n",
    "results = filteredResults.sort(func.col(\"score\").desc()).take(10)\n",
    "\n",
    "print(\"Top 10 similar movies for \" + getMovieName(movieNames, movieID))\n",
    "\n",
    "for result in results:\n",
    "    # Display the similarity result that isn't the movie we're looking at\n",
    "    similarMovieID = result.movie1\n",
    "    if similarMovieID == movieID:\n",
    "        similarMovieID = result.movie2\n",
    "\n",
    "    print(\n",
    "        getMovieName(movieNames, similarMovieID)\n",
    "        + \"\\tscore: \"\n",
    "        + str(result.score)\n",
    "        + \"\\tstrength: \"\n",
    "    )"
   ]
  }
 ],
 "metadata": {
  "kernelspec": {
   "display_name": "Python 3",
   "language": "python",
   "name": "python3"
  },
  "language_info": {
   "codemirror_mode": {
    "name": "ipython",
    "version": 3
   },
   "file_extension": ".py",
   "mimetype": "text/x-python",
   "name": "python",
   "nbconvert_exporter": "python",
   "pygments_lexer": "ipython3",
   "version": "3.10.12"
  }
 },
 "nbformat": 4,
 "nbformat_minor": 2
}
