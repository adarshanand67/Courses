{
 "cells": [
  {
   "cell_type": "code",
   "execution_count": 5,
   "metadata": {},
   "outputs": [],
   "source": [
    "from pyspark import SparkConf\n",
    "from pyspark.sql import SparkSession, Row\n",
    "from pyspark.sql import functions as func\n",
    "from pyspark.sql.types import (\n",
    "    StructType,\n",
    "    StructField,\n",
    "    StringType,\n",
    "    IntegerType,\n",
    "    FloatType,\n",
    ")"
   ]
  },
  {
   "cell_type": "code",
   "execution_count": null,
   "metadata": {},
   "outputs": [],
   "source": [
    "spark = SparkSession.builder.appName(\"CustomerOrders\").getOrCreate()"
   ]
  },
  {
   "cell_type": "code",
   "execution_count": null,
   "metadata": {},
   "outputs": [
    {
     "name": "stdout",
     "output_type": "stream",
     "text": [
      "+-------+----------+-----+\n",
      "|user_id|product_id| cost|\n",
      "+-------+----------+-----+\n",
      "|     44|      8602|37.19|\n",
      "|     35|      5368|65.89|\n",
      "|      2|      3391|40.64|\n",
      "|     47|      6694|14.98|\n",
      "|     29|       680|13.08|\n",
      "+-------+----------+-----+\n",
      "only showing top 5 rows\n",
      "\n"
     ]
    }
   ],
   "source": [
    "schema = StructType(\n",
    "    [\n",
    "        StructField(\"user_id\", IntegerType(), True),\n",
    "        StructField(\"product_id\", IntegerType(), True),\n",
    "        StructField(\"cost\", FloatType(), True),\n",
    "    ]\n",
    ")\n",
    "\n",
    "df = spark.read.schema(schema).csv(\"./ml-32m/customer-orders.csv\")\n",
    "df.show(5)"
   ]
  },
  {
   "cell_type": "code",
   "execution_count": null,
   "metadata": {},
   "outputs": [
    {
     "name": "stdout",
     "output_type": "stream",
     "text": [
      "+-------+-----------+\n",
      "|user_id|total_spent|\n",
      "+-------+-----------+\n",
      "|     68|    6375.45|\n",
      "|     73|     6206.2|\n",
      "|     39|    6193.11|\n",
      "|     54|    6065.39|\n",
      "|     71|    5995.66|\n",
      "+-------+-----------+\n",
      "only showing top 5 rows\n",
      "\n"
     ]
    }
   ],
   "source": [
    "# Total spent by customers in decreasing order\n",
    "df.groupBy(\"user_id\").agg(func.round(func.sum(\"cost\"), 2).alias(\"total_spent\")).orderBy(\n",
    "    func.desc(\"total_spent\")\n",
    ").show(5)"
   ]
  },
  {
   "cell_type": "code",
   "execution_count": null,
   "metadata": {},
   "outputs": [
    {
     "name": "stdout",
     "output_type": "stream",
     "text": [
      "Most spending customer: Row(user_id=68, total_spent=6375.45)\n"
     ]
    }
   ],
   "source": [
    "most_spending_customer = (\n",
    "    df.groupBy(\"user_id\")\n",
    "    .agg(func.round(func.sum(\"cost\"), 2).alias(\"total_spent\"))\n",
    "    .orderBy(func.desc(\"total_spent\"))\n",
    "    .first()\n",
    ")\n",
    "print(f\"Most spending customer: {most_spending_customer}\")"
   ]
  }
 ],
 "metadata": {
  "kernelspec": {
   "display_name": "Python 3",
   "language": "python",
   "name": "python3"
  },
  "language_info": {
   "codemirror_mode": {
    "name": "ipython",
    "version": 3
   },
   "file_extension": ".py",
   "mimetype": "text/x-python",
   "name": "python",
   "nbconvert_exporter": "python",
   "pygments_lexer": "ipython3",
   "version": "3.10.12"
  }
 },
 "nbformat": 4,
 "nbformat_minor": 2
}
